{
 "cells": [
  {
   "cell_type": "markdown",
   "metadata": {
    "dc": {
     "key": "3"
    },
    "run_control": {
     "frozen": false
    },
    "tags": [
     "context"
    ]
   },
   "source": [
    "# Text Processing Pipeline with Python\n",
    "\n",
    "The majority of world's data is unstructured data, in the form of text or voice or image. In this notebook, we create a text processing pipeline, using Python's natural language processing tools such as `requests`, `BeautifulSoup`, `NLTK` (Natural Language ToolKit). \n",
    "\n",
    "Our goal is to analyze and visualize word frequency distribution in a text available online in HTML format. T illustrate the following steps, we use a classic text from the [Gutenberg Project](https://www.gutenberg.org) website (which contains a large corpus of books) to create the pipeline. \n",
    "\n",
    "More precisely, we want to write a function that does all of the following steps for us: \n",
    " \n",
    "1. Using `requests` package, we get the HTML text of `Pride and Prejudice by Jane Austen` from `Gutenberg Project` website. \n",
    "2. Using `BeautifulSoup` package, then we extract words from this web data.  \n",
    "3. Using `NLTK`, we `tokenize` the text: \n",
    "   - remove everything that is not a word (whitespace, punctuation, etc.)\n",
    "   - split the text into a list of lowercase words\n",
    "   - remove stop words (such as \"a\", \"an\", \"and\", \"or\", \"the\", \"of\", etc.) that appear a lot but do not add useful information\n",
    "\n",
    "  \n",
    "4. Using `NLTK`, and `matplotlib`, we analyze and visualize the distribution of words in the text.  \n",
    "\n",
    "As an input, we pass the url of the book and the function returns the plot of the most frequent words with their frequencies. \n",
    "\n",
    "## Setup\n",
    "\n",
    "Let us import the required Python packages that we need in our text processing."
   ]
  },
  {
   "cell_type": "code",
   "execution_count": 1,
   "metadata": {
    "dc": {
     "key": "3"
    },
    "tags": [
     "sample_code"
    ]
   },
   "outputs": [],
   "source": [
    "# import requests, BeautifulSoup, and nltk\n",
    "import requests\n",
    "from bs4 import BeautifulSoup\n",
    "import nltk\n",
    "\n",
    "# import plotting libraries\n",
    "import matplotlib.pyplot as plt\n",
    "%matplotlib inline"
   ]
  },
  {
   "cell_type": "markdown",
   "metadata": {
    "dc": {
     "key": "10"
    },
    "run_control": {
     "frozen": false
    },
    "tags": [
     "context"
    ]
   },
   "source": [
    "## 1. Requesting the HTML Text \n",
    "\n",
    "To begin with our text analysis, we need to send a request to the `Gutenberg Project` website and get the freely available text file of the book `Pride and Prejudice` at:\n",
    "\n",
    "- http://www.gutenberg.org/files/1342/1342-h/1342-h.htm"
   ]
  },
  {
   "cell_type": "code",
   "execution_count": 2,
   "metadata": {
    "dc": {
     "key": "10"
    },
    "tags": [
     "sample_code"
    ]
   },
   "outputs": [
    {
     "name": "stdout",
     "output_type": "stream",
     "text": [
      "<!DOCTYPE html PUBLIC \"-//W3C//DTD XHTML 1.0 Strict//EN\"\r\n",
      "\"http://www.w3.org/TR/xhtml1/DTD/xhtml1-strict.dtd\">\r\n",
      "<html xmlns=\"http://www.w3.org/1999/xhtml\" xml:lang=\"en\" lang=\"en\">\r\n",
      "<head>\r\n",
      "<meta http-equiv=\"Content-Type\" content=\"text/html;charset=utf-8\" />\r\n",
      "<meta http-equiv=\"Content-Style-Type\" content=\"text/css\" />\r\n",
      "<title>The Project Gutenberg eBook of Pride and Prejudice, by Jane Austen</title>\r\n",
      "<link rel=\"coverpage\" href=\"images/cover.jpg\" />\r\n",
      "<style type=\"text/css\">\r\n",
      "\r\n",
      "body { margin-left: 20%;\r\n",
      "       margin-right: 20%;\r\n",
      "       text-align: justify }\r\n",
      "\r\n",
      "h1, h2 {text-align: center; font-style: normal; font-weight:\r\n",
      "normal; line-height: 1.5; margin-top: .5em; margin-bottom: .5em;}\r\n",
      "\r\n",
      "h1 {font-size: 300%;\r\n",
      "    margin-top: 0.6em;\r\n",
      "    margin-bottom: 0.6em;\r\n",
      "    letter-spacing: 0.12em;\r\n",
      "    word-spacing: 0.2em;\r\n",
      "    text-indent: 0em;}\r\n",
      "h2 {font-size: 150%; margin-top: 2em; margin-bottom: 1em;}\r\n",
      "\r\n",
      ".no-break {page-break-before: avoid;} /* for epubs */\r\n",
      "\r\n",
      "div.chapter {page-break-before: a\n"
     ]
    }
   ],
   "source": [
    "# make a request to get 'Pride and Prejudice' \n",
    "url = 'http://www.gutenberg.org/files/1342/1342-h/1342-h.htm'\n",
    "r = requests.get(url)\n",
    "\n",
    "# set the correct text encoding of the above HTML page\n",
    "r.encoding = 'utf-8'\n",
    "\n",
    "# extract the HTML text from the request object\n",
    "html_text = r.text\n",
    "\n",
    "# printing the first 1000 characters in html\n",
    "print(html_text[0:1000])"
   ]
  },
  {
   "cell_type": "markdown",
   "metadata": {
    "dc": {
     "key": "17"
    },
    "run_control": {
     "frozen": false
    },
    "tags": [
     "context"
    ]
   },
   "source": [
    "## 2. Extracting the Main Text from HTML Text \n",
    "\n",
    "The above HTML does _contain_ what we want which is the content of `Pride and Prejudice`. However, is not quite what we want. As we can see there are extra html text in the above text which we do not need it. So, we need to extract the text of `Pride and Prejudice` from this HTML. This is where we need to use the `BeautifulSoup` package, which makes the above HTML file syntactically \"beautiful\"."
   ]
  },
  {
   "cell_type": "code",
   "execution_count": 3,
   "metadata": {
    "dc": {
     "key": "17"
    },
    "scrolled": false,
    "tags": [
     "sample_code"
    ]
   },
   "outputs": [
    {
     "name": "stdout",
     "output_type": "stream",
     "text": [
      "t is a truth universally acknowledged, that a single man in possession of\r\n",
      "      a good fortune, must be in want of a wife.\r\n",
      "    \n",
      "\r\n",
      "      However little known the feelings or views of such a man may be on his\r\n",
      "      first entering a neighbourhood, this truth is so well fixed in the minds\r\n",
      "      of the surrounding families, that he is considered the rightful property\r\n",
      "      of some one or other of their daughters.\r\n",
      "    \n",
      "\r\n",
      "      “My dear Mr. Bennet,” said his lady to him one day, “have you heard t\n"
     ]
    }
   ],
   "source": [
    "# creating a BeautifulSoup object from the HTML\n",
    "# Remark: for reproducibility we should also add a parser argument.\n",
    "# Read about \"difference between parsers\" at the following address:\n",
    "# https://www.crummy.com/software/BeautifulSoup/bs4/doc/#differences-between-parsers\n",
    "soup = BeautifulSoup(html_text)\n",
    "#type(soup)\n",
    "#print(soup.prettify())\n",
    "\n",
    "# get the text out of the soup\n",
    "text = soup.get_text()\n",
    "\n",
    "# print out text between characters 1000 and 3000\n",
    "print(text[2000:2500])\n"
   ]
  },
  {
   "cell_type": "markdown",
   "metadata": {
    "dc": {
     "key": "24"
    },
    "run_control": {
     "frozen": false
    },
    "tags": [
     "context"
    ]
   },
   "source": [
    "## 3. Tokenizing the Text\n",
    "\n",
    "We now have the whole text of `Pride and Prejudice`. However, we still need to do a bit of extra work on the text to prepare it for our final analysis. We do the following:\n",
    "\n",
    "- tokenize the text: remove everything that is not a word (whitespace, punctuation, etc.)\n",
    "- split the text into a list of lowercase words\n",
    "- removing stop words (\"a\", \"as\", \"and\", \"of\", \"for\", etc.)\n",
    "\n",
    "#### Tokenization"
   ]
  },
  {
   "cell_type": "code",
   "execution_count": 4,
   "metadata": {
    "dc": {
     "key": "24"
    },
    "tags": [
     "sample_code"
    ]
   },
   "outputs": [
    {
     "name": "stdout",
     "output_type": "stream",
     "text": [
      "['The', 'Project', 'Gutenberg', 'eBook', 'of', 'Pride', 'and', 'Prejudice', 'by', 'Jane']\n"
     ]
    }
   ],
   "source": [
    "# create a tokenizer\n",
    "tokenizer = nltk.tokenize.RegexpTokenizer('\\w+')\n",
    "\n",
    "# tokenize the text\n",
    "tokens = tokenizer.tokenize(text)\n",
    "\n",
    "# print out the first 10 words/tokens \n",
    "print(tokens[0:10])"
   ]
  },
  {
   "cell_type": "markdown",
   "metadata": {},
   "source": [
    "#### Splitting the text to a list of lower case words"
   ]
  },
  {
   "cell_type": "code",
   "execution_count": 5,
   "metadata": {},
   "outputs": [
    {
     "name": "stdout",
     "output_type": "stream",
     "text": [
      "['the', 'project', 'gutenberg', 'ebook', 'of', 'pride', 'and', 'prejudice', 'by', 'jane']\n"
     ]
    }
   ],
   "source": [
    "# create a list \"words\", containing all tokens lowercased\n",
    "words = [word.lower() for word in tokens]\n",
    "\n",
    "# print out the first 10 words/tokens \n",
    "print(words[0:10])"
   ]
  },
  {
   "cell_type": "markdown",
   "metadata": {
    "dc": {
     "key": "38"
    },
    "run_control": {
     "frozen": false
    },
    "tags": [
     "context"
    ]
   },
   "source": [
    "#### Removing stop words\n",
    "\n",
    "The `NLTK` package includes a good list of stop words in English that we use here. In the first line of code, we first make sure that `stopwords` are loaded."
   ]
  },
  {
   "cell_type": "code",
   "execution_count": 6,
   "metadata": {
    "dc": {
     "key": "38"
    },
    "tags": [
     "sample_code"
    ]
   },
   "outputs": [
    {
     "name": "stdout",
     "output_type": "stream",
     "text": [
      "The first 10 stopwords:  ['i', 'me', 'my', 'myself', 'we', 'our', 'ours', 'ourselves', 'you', \"you're\"]\n",
      "The first 10 non-stop words in the text:  ['project', 'gutenberg', 'ebook', 'pride', 'prejudice']\n"
     ]
    }
   ],
   "source": [
    "# download the English stopwords\n",
    "#nltk.download('stopwords')\n",
    "\n",
    "# get the English stop words from NLTK\n",
    "sw = nltk.corpus.stopwords.words('english')\n",
    "\n",
    "# print out the first 10 stop words\n",
    "print('The first 10 stopwords: ', sw[0:10])\n",
    "\n",
    "# create a list \"ns_words\" of \"words\" that are not in sw\n",
    "ns_words = []\n",
    "\n",
    "for word in words:\n",
    "    if word not in sw:\n",
    "        ns_words.append(word)\n",
    "\n",
    "# print the first 10 elements of ns_words \n",
    "print('The first 10 non-stop words in the text: ', ns_words[0:5])"
   ]
  },
  {
   "cell_type": "markdown",
   "metadata": {
    "dc": {
     "key": "52"
    },
    "run_control": {
     "frozen": false
    },
    "tags": [
     "context"
    ]
   },
   "source": [
    "## 4. The Distribution of Words\n",
    "\n",
    "Now we can find the word frequencies in the text. In particular, we want to know:\n",
    "\n",
    "- What are the most frequent words and how often do they appear?\n"
   ]
  },
  {
   "cell_type": "code",
   "execution_count": 7,
   "metadata": {
    "dc": {
     "key": "52"
    },
    "tags": [
     "sample_code"
    ]
   },
   "outputs": [
    {
     "data": {
      "text/plain": [
       "[('mr', 786),\n",
       " ('elizabeth', 635),\n",
       " ('could', 527),\n",
       " ('would', 471),\n",
       " ('darcy', 418),\n",
       " ('said', 401),\n",
       " ('mrs', 343),\n",
       " ('much', 329),\n",
       " ('bennet', 323),\n",
       " ('must', 318),\n",
       " ('bingley', 306),\n",
       " ('jane', 295),\n",
       " ('miss', 283),\n",
       " ('one', 275),\n",
       " ('know', 239),\n",
       " ('though', 226),\n",
       " ('well', 224),\n",
       " ('never', 220),\n",
       " ('sister', 218),\n",
       " ('soon', 216),\n",
       " ('think', 211),\n",
       " ('may', 209),\n",
       " ('time', 203),\n",
       " ('good', 201),\n",
       " ('might', 200)]"
      ]
     },
     "execution_count": 7,
     "metadata": {},
     "output_type": "execute_result"
    }
   ],
   "source": [
    "# create freq dist and plot top 25 most\n",
    "# frequently occured words in the book\n",
    "freq_dist = nltk.FreqDist(ns_words)\n",
    "freq_dist.most_common(25)"
   ]
  },
  {
   "cell_type": "markdown",
   "metadata": {},
   "source": [
    "#### Visualizing the word frequencies\n",
    "\n",
    "Finally, let us visualize word frequencies using `NLTK` and `matplotlib`. We first need to create a frequency distribution object using the `nltk.FreqDist()` function. "
   ]
  },
  {
   "cell_type": "code",
   "execution_count": 8,
   "metadata": {},
   "outputs": [
    {
     "data": {
      "image/png": "[encoded data removed]",
      "text/plain": [
       "<Figure size 576x432 with 1 Axes>"
      ]
     },
     "metadata": {
      "needs_background": "light"
     },
     "output_type": "display_data"
    }
   ],
   "source": [
    "# plot the distribution of top 25 most\n",
    "# frequently occured words in the book\n",
    "plt.figure(figsize=(8,6))\n",
    "freq_dist.plot(25, title = 'Most Frequently Occured Words')\n",
    "plt.show()"
   ]
  },
  {
   "cell_type": "markdown",
   "metadata": {},
   "source": [
    "## Writing the Pipeline Function\n",
    "\n",
    "Now, we can combine all the above steps to write a function that implements the pipeline of word frequencies by taking the url of the book/text and returning the frequency plot of the book."
   ]
  },
  {
   "cell_type": "code",
   "execution_count": 9,
   "metadata": {},
   "outputs": [],
   "source": [
    "def text_freq_plot(url):\n",
    "    \"\"\"\n",
    "    function takes the 'url' address of a HTML book/text, and\n",
    "    return the distribution plot of most frequently occured words \n",
    "    \"\"\"\n",
    "    # make a request and get the url\n",
    "    r = requests.get(url)\n",
    "    # extract HTML text from response object above \n",
    "    html_text = r.text\n",
    "    # create a BeautifulSoup object from the HTML text\n",
    "    soup = BeautifulSoup(html_text)\n",
    "    # get the text out of the soup object\n",
    "    text = soup.get_text()\n",
    "    # create tokenizer\n",
    "    tokenizer = nltk.tokenize.RegexpTokenizer('\\w+')\n",
    "    # create tokens\n",
    "    tokens = tokenizer.tokenize(text)\n",
    "    # initialize the final list of words in the text\n",
    "    words = []\n",
    "    # loop through tokens and make them lower case\n",
    "    for word in tokens:\n",
    "        words.append(word.lower())\n",
    "    # get English stopwords\n",
    "    sw = nltk.corpus.stopwords.words('english')\n",
    "    # initialize the list \"ns_words\" of \"words\" that are not in sw\n",
    "    ns_words = []\n",
    "    # append to ns_words all words that are in words but not in sw\n",
    "    for word in words:\n",
    "        if word not in sw:\n",
    "            ns_words.append(word)\n",
    "    # create freq dist and plot\n",
    "    freq_dist = nltk.FreqDist(ns_words)\n",
    "    plt.figure(figsize=(8,6))\n",
    "    freq_dist.plot(25, title = 'Distribution of Most Frequent Words')\n",
    "    plt.show()\n",
    "    print('Most frequently occured words:')\n",
    "    return freq_dist.most_common(25)\n"
   ]
  },
  {
   "cell_type": "markdown",
   "metadata": {},
   "source": [
    "Let us try the above function with another book from `Gutenberg Project` website: \n",
    "\n",
    "- `The Analysis of Mind by Bertrand Russell` with the url 'https://www.gutenberg.org/files/2529/2529-h/2529-h.htm'"
   ]
  },
  {
   "cell_type": "code",
   "execution_count": 10,
   "metadata": {},
   "outputs": [
    {
     "data": {
      "image/png": "[encoded data removed]",
      "text/plain": [
       "<Figure size 576x432 with 1 Axes>"
      ]
     },
     "metadata": {
      "needs_background": "light"
     },
     "output_type": "display_data"
    },
    {
     "name": "stdout",
     "output_type": "stream",
     "text": [
      "Most frequently occured words:\n"
     ]
    },
    {
     "data": {
      "text/plain": [
       "[('may', 474),\n",
       " ('one', 321),\n",
       " ('images', 296),\n",
       " ('belief', 247),\n",
       " ('image', 247),\n",
       " ('words', 234),\n",
       " ('memory', 224),\n",
       " ('would', 218),\n",
       " ('say', 215),\n",
       " ('word', 212),\n",
       " ('sensations', 208),\n",
       " ('case', 206),\n",
       " ('different', 200),\n",
       " ('knowledge', 198),\n",
       " ('us', 197),\n",
       " ('object', 177),\n",
       " ('must', 177),\n",
       " ('present', 174),\n",
       " ('two', 172),\n",
       " ('laws', 167),\n",
       " ('view', 165),\n",
       " ('fact', 162),\n",
       " ('physical', 155),\n",
       " ('certain', 154),\n",
       " ('matter', 144)]"
      ]
     },
     "execution_count": 10,
     "metadata": {},
     "output_type": "execute_result"
    }
   ],
   "source": [
    "url = 'https://www.gutenberg.org/files/2529/2529-h/2529-h.htm'\n",
    "text_freq_plot(url)"
   ]
  },
  {
   "cell_type": "markdown",
   "metadata": {},
   "source": [
    "  "
   ]
  }
 ],
 "metadata": {
  "kernelspec": {
   "display_name": "Python 3",
   "language": "python",
   "name": "python3"
  },
  "language_info": {
   "codemirror_mode": {
    "name": "ipython",
    "version": 3
   },
   "file_extension": ".py",
   "mimetype": "text/x-python",
   "name": "python",
   "nbconvert_exporter": "python",
   "pygments_lexer": "ipython3",
   "version": "3.8.5"
  }
 },
 "nbformat": 4,
 "nbformat_minor": 2
}
